{
 "cells": [
  {
   "cell_type": "code",
   "execution_count": 1,
   "metadata": {},
   "outputs": [],
   "source": [
    "import torch\n",
    "from JetGraphProducer import JetGraphProducer\n",
    "import numpy as np, awkward as ak\n",
    "import uproot"
   ]
  },
  {
   "cell_type": "markdown",
   "metadata": {},
   "source": [
    "We need to calculate MT on the fly since the version with AK15 Jets is not stored in the ntuples. This will be loaded by the `JetGraphProducer` and ran event-by-event"
   ]
  },
  {
   "cell_type": "code",
   "execution_count": 2,
   "metadata": {},
   "outputs": [],
   "source": [
    "def mt(event):\n",
    "    \"\"\"\n",
    "    Calculates the transverse mass MT and RT (closely related calcs)\n",
    "    \"\"\"\n",
    "    met_x = np.cos(event.METPhi) * event.MET\n",
    "    met_y = np.sin(event.METPhi) * event.MET\n",
    "    jet_phi = event[\"JetsAK15/JetsAK15.fCoordinates.fPhi\"][1]\n",
    "    jet_pt = event[\"JetsAK15/JetsAK15.fCoordinates.fPt\"][1]\n",
    "    jet_e = event[\"JetsAK15/JetsAK15.fCoordinates.fE\"][1]\n",
    "    jet_x = np.cos(jet_phi) * jet_pt\n",
    "    jet_y = np.sin(jet_phi) * jet_pt\n",
    "    # jet_e = np.sqrt(jets.mass2 + jets.pt**2)\n",
    "    # m^2 + pT^2 = E^2 - pT^2 - pz^2 + pT^2 = E^2 - pz^2\n",
    "    pz = jet_pt * np.sinh(event[\"JetsAK15/JetsAK15.fCoordinates.fEta\"][1])\n",
    "    transverse_e = np.sqrt(jet_e**2 - pz**2)\n",
    "    mt = np.sqrt( (transverse_e + event.MET)**2 - (jet_x + met_x)**2 - (jet_y + met_y)**2 )\n",
    "\n",
    "    return mt"
   ]
  },
  {
   "cell_type": "markdown",
   "metadata": {},
   "source": [
    "We load the signal and background data as graphs. The frist time the data is loaded, the rootfiles are processed into `torch_geometric.data.InMemoryDataset` objects and also stored on diks"
   ]
  },
  {
   "cell_type": "code",
   "execution_count": 3,
   "metadata": {},
   "outputs": [
    {
     "name": "stderr",
     "output_type": "stream",
     "text": [
      "WARNING:root:Using approximation for initial number of events with max number of events\n",
      "Processing...\n"
     ]
    },
    {
     "name": "stdout",
     "output_type": "stream",
     "text": [
      "Processing test_data/madpt300_mz250_mdark1_rinv0.7.root\n"
     ]
    },
    {
     "name": "stderr",
     "output_type": "stream",
     "text": [
      "  0%|          | 0/3000 [00:00<?, ?it/s]/Users/eth-svj/brendan/JetGraphProducer.py:535: UserWarning: To copy construct from a tensor, it is recommended to use sourceTensor.clone().detach() or sourceTensor.clone().detach().requires_grad_(True), rather than torch.tensor(sourceTensor).\n",
      "  edge_index=torch.tensor(adjacency, dtype=torch.long),\n",
      "100%|██████████| 3000/3000 [06:47<00:00,  7.36it/s]\n",
      "Done!\n"
     ]
    }
   ],
   "source": [
    "signal = JetGraphProducer(\n",
    "    \"test_data\",\n",
    "    n_store_jets=2,\n",
    "    use_lund_decomp=True,\n",
    "    n_lund_vars=5,\n",
    "    weights=\"xsec\",\n",
    "    extra_obs_to_load=[\"MET\", \"METPhi\"],\n",
    "    extra_obs_to_compute_per_event=[mt],\n",
    "    input_format=\"TreeMaker2\",\n",
    "    jet_collection=\"JetsAK15\",\n",
    "    verbose=True,\n",
    "    mask=True,\n",
    "    max_events_to_process=3000,\n",
    "    label=1.,\n",
    ")"
   ]
  },
  {
   "cell_type": "code",
   "execution_count": 4,
   "metadata": {},
   "outputs": [
    {
     "data": {
      "text/plain": [
       "tensor([[     2,      4,     63,  ..., 587170, 587171, 587171],\n",
       "        [    63,     63,      2,  ..., 587171, 587168, 587170]])"
      ]
     },
     "execution_count": 4,
     "metadata": {},
     "output_type": "execute_result"
    }
   ],
   "source": []
  },
  {
   "cell_type": "code",
   "execution_count": 5,
   "metadata": {},
   "outputs": [
    {
     "name": "stderr",
     "output_type": "stream",
     "text": [
      "WARNING:root:Using approximation for initial number of events with max number of events\n",
      "Processing...\n"
     ]
    },
    {
     "name": "stdout",
     "output_type": "stream",
     "text": [
      "Processing test_data_bkg/6_RA2AnalysisTree.root\n"
     ]
    },
    {
     "name": "stderr",
     "output_type": "stream",
     "text": [
      "  0%|          | 0/3000 [00:00<?, ?it/s]/Users/eth-svj/brendan/JetGraphProducer.py:535: UserWarning: To copy construct from a tensor, it is recommended to use sourceTensor.clone().detach() or sourceTensor.clone().detach().requires_grad_(True), rather than torch.tensor(sourceTensor).\n",
      "  edge_index=torch.tensor(adjacency, dtype=torch.long),\n",
      "100%|██████████| 3000/3000 [10:22<00:00,  4.82it/s]\n",
      "Done!\n"
     ]
    }
   ],
   "source": [
    "\n",
    "background = JetGraphProducer(\n",
    "    \"test_data_bkg\",\n",
    "    n_store_jets=2,\n",
    "    use_lund_decomp=True,\n",
    "    n_lund_vars=5,\n",
    "    weights=\"xsec\",\n",
    "    extra_obs_to_load=[\"MET\", \"METPhi\"],\n",
    "    extra_obs_to_compute_per_event=[mt],\n",
    "    input_format=\"TreeMaker2\",\n",
    "    jet_collection=\"JetsAK15\",\n",
    "    verbose=True,\n",
    "    mask=True,\n",
    "    max_events_to_process=3000,\n",
    "    label=0.,\n",
    ")"
   ]
  },
  {
   "cell_type": "markdown",
   "metadata": {},
   "source": [
    "We now preprocess the data by normalizing the node features and splitting it into training and testing, and merging them into one labelled dataset"
   ]
  },
  {
   "cell_type": "code",
   "execution_count": 6,
   "metadata": {},
   "outputs": [
    {
     "name": "stderr",
     "output_type": "stream",
     "text": [
      "/Users/eth-svj/miniforge3/envs/lund/lib/python3.10/site-packages/torch_geometric/data/in_memory_dataset.py:301: UserWarning: It is not recommended to directly access the internal storage format `data` of an 'InMemoryDataset'. The given 'InMemoryDataset' only references a subset of examples of the full dataset, but 'data' will contain information of the full dataset. The data of the dataset is already cached, so any modifications to `data` will not be reflected when accessing its elements. Clearing the cache now by removing all elements in `dataset._data_list`. If you are absolutely certain what you are doing, access the internal storage via `InMemoryDataset._data` instead to suppress this warning. Alternatively, you can access stacked individual attributes of every graph via `dataset.{attr_name}`.\n",
      "  warnings.warn(msg)\n"
     ]
    }
   ],
   "source": [
    "from LundTreeUtilities import OnTheFlyNormalizer\n",
    "from torch.utils.data import ConcatDataset\n",
    "\n",
    "signal_training = signal[::2][:int(len(signal)/2*0.8)]\n",
    "signal_testing = signal[::2][int(len(signal)/2*0.8):]\n",
    "\n",
    "background_training = background[:int(len(background)*0.8)]\n",
    "background_testing = background[int(len(background)*0.8):]\n",
    "\n",
    "weigths_signal_training = signal_training.w\n",
    "weigths_background_training = background_training.w\n",
    "weigths_signal_testing = signal_testing.w\n",
    "weigths_background_testing = background_testing.w\n",
    "\n",
    "means, stds = 0., 0.\n",
    "\n",
    "for graph in signal_training:\n",
    "    means =+ graph.x.sum(dim=0)*graph.w\n",
    "for graph in background_training:\n",
    "    means =+ graph.x.sum(dim=0)*graph.w\n",
    "for graph in signal_training:\n",
    "    stds += ((graph.x - means)**2).sum(dim=0)*graph.w\n",
    "for graph in background_training:\n",
    "    stds += ((graph.x - means)**2).sum(dim=0)*graph.w\n",
    "\n",
    "stds /= (signal_training.w.sum()+background_training.w.sum())\n",
    "stds = torch.sqrt(stds)\n",
    "\n",
    "# Careful that the normalizer is applied only once: slices in torch_geometric are actually only masks,\n",
    "# so _training and _testing objects share the same underlying tensor\n",
    "\n",
    "normalizer = OnTheFlyNormalizer([\"x\"], means, stds)\n",
    "normalizer(signal_training.data)\n",
    "normalizer(background_training.data)\n",
    "\n",
    "data_training = ConcatDataset((signal_training, background_training))\n",
    "data_testing = ConcatDataset((signal_testing, background_testing))\n",
    "weights = torch.cat((\n",
    "    weigths_signal_training/weigths_signal_training.sum(),\n",
    "    weigths_background_training/weigths_background_training.sum()\n",
    "    ))\n",
    "weights_testing = torch.cat((\n",
    "    weigths_signal_testing/weigths_signal_testing.sum(),\n",
    "    weigths_background_testing/weigths_background_testing.sum()\n",
    "    ))"
   ]
  },
  {
   "cell_type": "markdown",
   "metadata": {},
   "source": [
    "Define the model"
   ]
  },
  {
   "cell_type": "code",
   "execution_count": 7,
   "metadata": {},
   "outputs": [],
   "source": [
    "from architectures import LundNet\n",
    "\n",
    "torch.set_num_threads(2)\n",
    "\n",
    "n_lund_vars = 5\n",
    "add_fractions = True\n",
    "num_classes = 1\n",
    "conv_params = [[32, 32], [32, 32], [64, 64], [64, 64], [128, 128], [128, 128]]\n",
    "fc_params = [(128, 0.8)]\n",
    "\n",
    "model = LundNet(\n",
    "    conv_params=conv_params,\n",
    "    fc_params=fc_params,\n",
    "    input_dims=n_lund_vars,\n",
    "    use_fusion=True,\n",
    "    num_classes=num_classes,\n",
    "    add_fractions_to_lund=add_fractions,\n",
    ")"
   ]
  },
  {
   "cell_type": "code",
   "execution_count": 8,
   "metadata": {},
   "outputs": [
    {
     "data": {
      "text/plain": [
       "tensor([[  2,   4,  63,  63,   0,  14,  64,  64,   3,  63,  65,  65,   1,  65,\n",
       "          66,  66,   6,   9,  67,  67,  15,  64,  68,  68,   8,  10,  69,  69,\n",
       "          13,  69,  70,  70,  11,  66,  71,  71,  19,  53,  72,  72,   7,  67,\n",
       "          73,  73,  12,  20,  74,  74,  18,  68,  75,  75,  73,  75,  76,  76,\n",
       "          25,  33,  77,  77,  36,  41,  78,  78,  21,  76,  79,  79,   5,  70,\n",
       "          80,  80,  39,  56,  81,  81,  16,  54,  82,  82,  23,  74,  83,  83,\n",
       "          29,  35,  84,  84,  17,  80,  85,  85,  79,  83,  86,  86,  82,  86,\n",
       "          87,  87,  24,  27,  88,  88,  28,  42,  89,  89,  30,  85,  90,  90,\n",
       "          26,  47,  91,  91,  87,  90,  92,  92,  22,  89,  93,  93,  40,  43,\n",
       "          94,  94,  37,  52,  95,  95,  49,  51,  96,  96,  38,  46,  97,  97,\n",
       "          31,  32,  98,  98,  60,  71,  99,  99,  84,  97, 100, 100,  62,  78,\n",
       "         101, 101,  45,  93, 102, 102,  72,  92, 103, 103,  77, 103, 104, 104,\n",
       "          88,  99, 105, 105,  34,  98, 106, 106, 101, 104, 107, 107,  95,  96,\n",
       "         108, 108,  94, 105, 109, 109,  48, 108, 110, 110, 106, 107, 111, 111,\n",
       "         100, 109, 112, 112,  55, 111, 113, 113,  57,  59, 114, 114,  44, 113,\n",
       "         115, 115,  50, 114, 116, 116, 110, 112, 117, 117, 115, 117, 118, 118,\n",
       "          91, 102, 119, 119, 116, 118, 120, 120,  61,  81, 121, 121,  58, 120,\n",
       "         122, 122, 119, 122, 123, 123, 121, 123, 124, 124],\n",
       "        [ 63,  63,   2,   4,  64,  64,   0,  14,  65,  65,   3,  63,  66,  66,\n",
       "           1,  65,  67,  67,   6,   9,  68,  68,  15,  64,  69,  69,   8,  10,\n",
       "          70,  70,  13,  69,  71,  71,  11,  66,  72,  72,  19,  53,  73,  73,\n",
       "           7,  67,  74,  74,  12,  20,  75,  75,  18,  68,  76,  76,  73,  75,\n",
       "          77,  77,  25,  33,  78,  78,  36,  41,  79,  79,  21,  76,  80,  80,\n",
       "           5,  70,  81,  81,  39,  56,  82,  82,  16,  54,  83,  83,  23,  74,\n",
       "          84,  84,  29,  35,  85,  85,  17,  80,  86,  86,  79,  83,  87,  87,\n",
       "          82,  86,  88,  88,  24,  27,  89,  89,  28,  42,  90,  90,  30,  85,\n",
       "          91,  91,  26,  47,  92,  92,  87,  90,  93,  93,  22,  89,  94,  94,\n",
       "          40,  43,  95,  95,  37,  52,  96,  96,  49,  51,  97,  97,  38,  46,\n",
       "          98,  98,  31,  32,  99,  99,  60,  71, 100, 100,  84,  97, 101, 101,\n",
       "          62,  78, 102, 102,  45,  93, 103, 103,  72,  92, 104, 104,  77, 103,\n",
       "         105, 105,  88,  99, 106, 106,  34,  98, 107, 107, 101, 104, 108, 108,\n",
       "          95,  96, 109, 109,  94, 105, 110, 110,  48, 108, 111, 111, 106, 107,\n",
       "         112, 112, 100, 109, 113, 113,  55, 111, 114, 114,  57,  59, 115, 115,\n",
       "          44, 113, 116, 116,  50, 114, 117, 117, 110, 112, 118, 118, 115, 117,\n",
       "         119, 119,  91, 102, 120, 120, 116, 118, 121, 121,  61,  81, 122, 122,\n",
       "          58, 120, 123, 123, 119, 122, 124, 124, 121, 123]])"
      ]
     },
     "execution_count": 8,
     "metadata": {},
     "output_type": "execute_result"
    }
   ],
   "source": [
    "data_training[0].edge_index"
   ]
  },
  {
   "cell_type": "code",
   "execution_count": null,
   "metadata": {},
   "outputs": [],
   "source": []
  },
  {
   "cell_type": "markdown",
   "metadata": {},
   "source": [
    "Start training"
   ]
  },
  {
   "cell_type": "code",
   "execution_count": 9,
   "metadata": {},
   "outputs": [
    {
     "name": "stderr",
     "output_type": "stream",
     "text": [
      "                                                                 \r"
     ]
    }
   ],
   "source": [
    "from torch_geometric.loader import DataLoader\n",
    "from torch.utils.data import WeightedRandomSampler\n",
    "from tqdm import tqdm\n",
    "\n",
    "sampler = WeightedRandomSampler(weights/weights.sum(), len(data_training), replacement=True)\n",
    "loader = DataLoader(data_training, batch_size=128, sampler=sampler)\n",
    "\n",
    "optimizer = torch.optim.Adam(model.parameters(), lr=0.001)\n",
    "\n",
    "n_epochs = 10\n",
    "loss_history = []\n",
    "\n",
    "for epoch in range(n_epochs):\n",
    "    for batch in tqdm(loader, desc=f\"Training epoch {epoch}\", leave=False):\n",
    "        y_pred = model(batch)\n",
    "        loss = torch.nn.BCELoss()(y_pred[:,0], batch.y)\n",
    "        optimizer.zero_grad()\n",
    "        loss.backward()\n",
    "        optimizer.step()\n",
    "        loss_history.append(loss.item())"
   ]
  },
  {
   "cell_type": "code",
   "execution_count": 10,
   "metadata": {},
   "outputs": [
    {
     "data": {
      "image/png": "[encoded data removed]",
      "text/plain": [
       "<Figure size 640x480 with 1 Axes>"
      ]
     },
     "metadata": {},
     "output_type": "display_data"
    }
   ],
   "source": [
    "import matplotlib.pyplot as plt\n",
    "\n",
    "plt.plot(loss_history)\n",
    "plt.xlabel(\"Training step\")\n",
    "plt.ylabel(\"Loss\")\n",
    "plt.show()"
   ]
  },
  {
   "cell_type": "markdown",
   "metadata": {},
   "source": [
    "Check performance on the test dataset"
   ]
  },
  {
   "cell_type": "code",
   "execution_count": 11,
   "metadata": {},
   "outputs": [],
   "source": [
    "sampler_testing = WeightedRandomSampler(\n",
    "    weights_testing/weights_testing.sum(),\n",
    "    len(data_testing),\n",
    "    replacement = True\n",
    ")\n",
    "\n",
    "loader_testing = DataLoader(data_testing, sampler=sampler_testing, batch_size=len(data_testing))\n",
    "\n",
    "scores_testing = []\n",
    "labels_testing = []\n",
    "\n",
    "with torch.no_grad():\n",
    "    for batch in loader_testing:\n",
    "        scores_testing.append(model(batch))\n",
    "        labels_testing.append(batch.y)"
   ]
  },
  {
   "cell_type": "code",
   "execution_count": 12,
   "metadata": {},
   "outputs": [],
   "source": [
    "scores_testing = scores_testing[0][:,0]"
   ]
  },
  {
   "cell_type": "code",
   "execution_count": 13,
   "metadata": {},
   "outputs": [],
   "source": [
    "from sklearn.metrics import roc_curve, roc_auc_score\n",
    "\n",
    "fpr, tpr, _ = roc_curve(labels_testing[0], scores_testing)\n",
    "auc = roc_auc_score(labels_testing[0], scores_testing)"
   ]
  },
  {
   "cell_type": "code",
   "execution_count": 14,
   "metadata": {},
   "outputs": [
    {
     "data": {
      "image/png": "[encoded data removed]",
      "text/plain": [
       "<Figure size 640x480 with 1 Axes>"
      ]
     },
     "metadata": {},
     "output_type": "display_data"
    }
   ],
   "source": [
    "plt.plot(fpr, tpr, label=f\"ROC AUC: {auc:.3f}\")\n",
    "plt.legend()\n",
    "plt.xlabel(\"fpr\")\n",
    "plt.ylabel(\"tpr\")\n",
    "plt.show()"
   ]
  },
  {
   "cell_type": "code",
   "execution_count": 15,
   "metadata": {},
   "outputs": [
    {
     "data": {
      "image/png": "[encoded data removed]",
      "text/plain": [
       "<Figure size 640x480 with 1 Axes>"
      ]
     },
     "metadata": {},
     "output_type": "display_data"
    }
   ],
   "source": [
    "plt.hist(scores_testing[labels_testing[0] == 1.], label=\"Signal\")\n",
    "plt.hist(scores_testing[labels_testing[0] == 0.], label=\"Background\")\n",
    "plt.xlabel(\"LundNET score\")\n",
    "plt.legend()\n",
    "plt.show()"
   ]
  },
  {
   "cell_type": "code",
   "execution_count": null,
   "metadata": {},
   "outputs": [],
   "source": []
  }
 ],
 "metadata": {
  "kernelspec": {
   "display_name": "Python 3",
   "language": "python",
   "name": "python3"
  },
  "language_info": {
   "codemirror_mode": {
    "name": "ipython",
    "version": 3
   },
   "file_extension": ".py",
   "mimetype": "text/x-python",
   "name": "python",
   "nbconvert_exporter": "python",
   "pygments_lexer": "ipython3",
   "version": "3.10.0"
  }
 },
 "nbformat": 4,
 "nbformat_minor": 2
}
